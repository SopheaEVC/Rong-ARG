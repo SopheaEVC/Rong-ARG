{
  "nbformat": 4,
  "nbformat_minor": 0,
  "metadata": {
    "colab": {
      "provenance": [],
      "authorship_tag": "ABX9TyNyENlH9+KnM6V4Si73ChJE",
      "include_colab_link": true
    },
    "kernelspec": {
      "name": "python3",
      "display_name": "Python 3"
    },
    "language_info": {
      "name": "python"
    }
  },
  "cells": [
    {
      "cell_type": "markdown",
      "metadata": {
        "id": "view-in-github",
        "colab_type": "text"
      },
      "source": [
        "<a href=\"https://colab.research.google.com/github/SopheaEVC/Rong-ARG/blob/main/fcipy.ipynb\" target=\"_parent\"><img src=\"https://colab.research.google.com/assets/colab-badge.svg\" alt=\"Open In Colab\"/></a>"
      ]
    },
    {
      "cell_type": "code",
      "execution_count": 3,
      "metadata": {
        "colab": {
          "base_uri": "https://localhost:8080/"
        },
        "id": "a-f1T6jlvnbX",
        "outputId": "a61b225e-9ed0-4394-eeb6-3a0124cfb98d"
      },
      "outputs": [
        {
          "output_type": "execute_result",
          "data": {
            "text/plain": [
              "Index(['_id', 'fci_name', 'size_ha', 'province', 'district', 'commune',\n",
              "       'type_area', 'category', 'region', 'issuedate', 'reference',\n",
              "       'referen_kh', 'last_updat', 'language'],\n",
              "      dtype='object')"
            ]
          },
          "metadata": {},
          "execution_count": 3
        }
      ],
      "source": [
        "import numpy as np\n",
        "import pandas as pd\n",
        "import matplotlib.pyplot as plt\n",
        "\n",
        "# loading data\n",
        "df = pd.read_csv(\"https://raw.githubusercontent.com/SopheaEVC/Rong-ARG/main/sfdata_v2/fci_ps.csv\")\n",
        "df.columns"
      ]
    },
    {
      "cell_type": "code",
      "source": [
        "fci = df.loc[:, [\n",
        "    'fci_name', 'size_ha',\n",
        "    'province', 'district',\n",
        "    'commune','type_area',\n",
        "]]\n",
        "print(fci.tail())"
      ],
      "metadata": {
        "colab": {
          "base_uri": "https://localhost:8080/"
        },
        "id": "RvOESZgSwyBA",
        "outputId": "13868016-4d5c-456d-8d6c-21fe16dee4c9"
      },
      "execution_count": 10,
      "outputs": [
        {
          "output_type": "stream",
          "name": "stdout",
          "text": [
            "                                  fci_name  size_ha        province  \\\n",
            "9      Bit Trang flooded forest protection     2020  Preah Sihanouk   \n",
            "10                         Phum Deum Thkov     1734  Preah Sihanouk   \n",
            "11     Chroulong flooded forest protection     1572  Preah Sihanouk   \n",
            "12  Tumnob Rolok flooded forest protection     1189  Preah Sihanouk   \n",
            "13      Ou Tress flooded forest protection      496  Preah Sihanouk   \n",
            "\n",
            "      district       commune  type_area  \n",
            "9     Prey Nob     Bet Trang  Fisheries  \n",
            "10    Sihanouk      Koh Rung  Fisheries  \n",
            "11    Prey Nob     Tuek L'ak  Fisheries  \n",
            "12  Stueng Hav  Tumnob Rolok  Fisheries  \n",
            "13  Stueng Hav       Ou Treh  Fisheries  \n"
          ]
        }
      ]
    }
  ]
}